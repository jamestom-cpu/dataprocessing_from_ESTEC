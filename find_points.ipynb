{
 "cells": [
  {
   "cell_type": "code",
   "execution_count": 1,
   "id": "44a92e24",
   "metadata": {},
   "outputs": [],
   "source": [
    "import numpy as np\n",
    "import scipy as sc\n",
    "import matplotlib.pyplot as plt\n",
    "import os, sys\n",
    "import pickle\n",
    "import re\n",
    "import time\n",
    "import h5py\n",
    "\n",
    "\n",
    "from my_packages import signal_elaboration as s"
   ]
  },
  {
   "cell_type": "markdown",
   "id": "3f198841",
   "metadata": {},
   "source": [
    "## Find the Coordinates"
   ]
  },
  {
   "cell_type": "code",
   "execution_count": 114,
   "id": "79958a8c",
   "metadata": {},
   "outputs": [],
   "source": [
    "\n",
    "# def find_all_coordinates(contents=None, directory=False):\n",
    "#     if directory:\n",
    "#         contents = os.listdir(directory)\n",
    "    \n",
    "#     # using regular expressions split the string where it finds a number between 1 and 5; followed by a number \n",
    "#     # between 0 and 9 or nothing; followed by \".csv\". This will lea\n",
    "    \n",
    "#     reg_expr1 = \"[1-9]([0-9]|)\\.csv\"\n",
    "#     parsing1 = lambda x: list(filter(None, re.split(reg_expr1, x)))[0]\n",
    "#     parsing2 = lambda x: x[1:].split(\"y\")\n",
    "#     parsed_strings = list(map(parsing2, set(map(parsing1, contents))))\n",
    "    \n",
    "#     return contents, parsed_strings"
   ]
  },
  {
   "cell_type": "code",
   "execution_count": 8,
   "id": "d76b1c63",
   "metadata": {},
   "outputs": [
    {
     "name": "stdout",
     "output_type": "stream",
     "text": [
      "The paths to measurements are: \n",
      " ['/NAS/xfb31/r18', '/NAS/XFE_04s/r18', '/NAS/XFE_04s/r18_o', '/NAS/XFR31/r18_o/along_x', '/NAS/XFR31/r18_o/along_y']\n",
      "the paths are all accessable:  True\n"
     ]
    }
   ],
   "source": [
    "# NAS_path = \"/NAS\"\n",
    "# folder = 'xfb31/r18'\n",
    "# directory = os.path.join(NAS_path, folder)\n",
    "# cont, parsed = find_all_coordinates(directory=directory)\n",
    "# contents, parsed = find_all_coordinates(contents=cont)\n",
    "\n",
    "from my_packages.utils import HandlePaths, probes, probes_walk\n",
    "\n",
    "full_paths = HandlePaths(\"/NAS\")(probes_walk)\n",
    "\n",
    "print(\"The paths to measurements are: \\n\", full_paths)\n",
    "print(\"the paths are all accessable: \", all([os.path.exists(p) for p in full_paths]))"
   ]
  },
  {
   "cell_type": "code",
   "execution_count": 93,
   "id": "2453c07c",
   "metadata": {},
   "outputs": [],
   "source": [
    "class Batch_Generator():\n",
    "    # this class defines a generator that loads filenames in an array until the numbering\n",
    "    # returns to 1. Therefore all the measurements of the same point should be grouped in one batch. \n",
    "    # The batch generator expects a generator as input, that returns one at a time the filenames. \n",
    "    # In particular such a generator is defined as os.scandir(<directory_path>)\n",
    "    def __init__(self, coordinates):\n",
    "        self.coordinate_gen = iter(coordinates)\n",
    "        self.current_batch = []\n",
    "        self.number_of_batches_done = 0\n",
    "    \n",
    "    \n",
    "    def __iter__(self):\n",
    "        return self\n",
    "    \n",
    "    def __next__(self):\n",
    "        current_coordinates = next(self.coordinate_gen)\n",
    "        current_name = \"x\"+current_coordinates[0]+\"y\"+current_coordinates[1]\n",
    "        batch = [current_name+str(ii+1)+\".csv\" for ii in range(50)]\n",
    "\n",
    "        self.current_batch=batch\n",
    "        self.number_of_batches_done += 1\n",
    "\n",
    "        return self.current_batch\n",
    "\n",
    "\n",
    "\n",
    "class HandleDataDir():\n",
    "    def __init__(\n",
    "        self, \n",
    "        path = \"\",\n",
    "        file_contents = None,\n",
    "        ):\n",
    "        self.path = path\n",
    "        if not file_contents:\n",
    "            resp = input(\"type \\\"y\\\" to look through the directory contents: \")\n",
    "            if resp == \"y\":\n",
    "                self.file_contents = os.listdir(path)\n",
    "            else:\n",
    "                raise Exception(\"must give the list of contents\")\n",
    "        else:\n",
    "            self.file_contents=file_contents\n",
    "\n",
    "    \n",
    "    @staticmethod\n",
    "    def _parse_strings(contents):\n",
    "        reg_expr = \"[1-9]([0-9]|)\\.csv\"\n",
    "\n",
    "        parsing1 = lambda x: list(filter(None, re.split(reg_expr, x)))[0]\n",
    "        parsing2 = lambda x: x[1:].split(\"y\")\n",
    "        parsed_strings = list(map(parsing2, set(map(parsing1, contents))))\n",
    "        \n",
    "        return parsed_strings\n",
    "    \n",
    "    \n",
    "    def get_coordinates(self):\n",
    "        # using regular expressions split the string where it finds a number between 1 and 9; followed by a number \n",
    "        # between 0 and 9 or nothing; followed by \".csv\". \n",
    "\n",
    "        parsed_strings = self._parse_strings(self.file_contents)\n",
    "        self.parsed_strings = parsed_strings\n",
    "        coordinates = np.array(parsed_strings, dtype=np.float32)\n",
    "        x = np.unique(coordinates[:,0]); y = np.unique(coordinates[:,1]) \n",
    "        # the coordinate are expressed in micron!\n",
    "        # transform to mm\n",
    "        x = x/1e3; y=y/1e3\n",
    "\n",
    "\n",
    "        # create a grid that can be useful in plotting on the measurement plane. No need to be conscious of memory:\n",
    "        # the number of points is very small\n",
    "        grid = np.meshgrid(x,y, indexing=\"xy\", sparse=False, copy=True) \n",
    "        self.coordinates = dict(x=x, y=y, grid=grid)\n",
    "\n",
    "        return x, y, grid\n",
    "    \n",
    "    def make_generator(self):\n",
    "        # get the coordinates from the parsed strings\n",
    "        self.parsed_strings = self._parse_strings(self.file_contents)\n",
    "\n",
    "        self.batch_generator = Batch_Generator(self.parsed_strings)\n",
    "\n",
    "        return self.batch_generator\n",
    "        \n",
    "        \n"
   ]
  },
  {
   "cell_type": "code",
   "execution_count": 94,
   "id": "972c7108",
   "metadata": {},
   "outputs": [],
   "source": [
    "\n",
    "hdata=HandleDataDir(full_paths[0], file_contents=fc)"
   ]
  },
  {
   "cell_type": "code",
   "execution_count": 95,
   "id": "5ee34a75",
   "metadata": {},
   "outputs": [],
   "source": [
    "x, y, grid = hdata.get_coordinates()\n",
    "\n",
    "bgen = hdata.make_generator()"
   ]
  },
  {
   "cell_type": "code",
   "execution_count": 97,
   "id": "aedc5cd8",
   "metadata": {},
   "outputs": [
    {
     "data": {
      "text/plain": [
       "2"
      ]
     },
     "execution_count": 97,
     "metadata": {},
     "output_type": "execute_result"
    }
   ],
   "source": [
    "next(bgen)\n",
    "bgen.number_of_batches_done"
   ]
  },
  {
   "cell_type": "code",
   "execution_count": 99,
   "id": "f46b461b",
   "metadata": {},
   "outputs": [
    {
     "data": {
      "text/plain": [
       "2"
      ]
     },
     "execution_count": 99,
     "metadata": {},
     "output_type": "execute_result"
    }
   ],
   "source": []
  },
  {
   "cell_type": "code",
   "execution_count": 42,
   "id": "095278e6",
   "metadata": {},
   "outputs": [
    {
     "name": "stdout",
     "output_type": "stream",
     "text": [
      "(2166,) (2166,)\n"
     ]
    },
    {
     "data": {
      "text/plain": [
       "((57,), (38,))"
      ]
     },
     "execution_count": 42,
     "metadata": {},
     "output_type": "execute_result"
    }
   ],
   "source": [
    "x = cc[:,0]\n",
    "y = cc[:,1]\n",
    "print(x.shape, y.shape)\n",
    "\n",
    "np.unique(x).shape, np.unique(y).shape"
   ]
  },
  {
   "cell_type": "code",
   "execution_count": 100,
   "id": "9ca4d506",
   "metadata": {},
   "outputs": [
    {
     "data": {
      "text/plain": [
       "(1, 3)"
      ]
     },
     "execution_count": 100,
     "metadata": {},
     "output_type": "execute_result"
    }
   ],
   "source": [
    "a=np.array([1,2,3]); b=np.array([4,5])\n",
    "\n",
    "k, j = np.meshgrid(a,b, sparse=True)\n",
    "\n",
    "\n"
   ]
  },
  {
   "cell_type": "code",
   "execution_count": null,
   "id": "fee117d4",
   "metadata": {},
   "outputs": [],
   "source": []
  },
  {
   "cell_type": "code",
   "execution_count": 1,
   "id": "03a0cef8",
   "metadata": {},
   "outputs": [
    {
     "ename": "TypeError",
     "evalue": "get_paths() takes 2 positional arguments but 3 were given",
     "output_type": "error",
     "traceback": [
      "\u001b[0;31m---------------------------------------------------------------------------\u001b[0m",
      "\u001b[0;31mTypeError\u001b[0m                                 Traceback (most recent call last)",
      "\u001b[0;32m/tmp/ipykernel_145/4054499946.py\u001b[0m in \u001b[0;36m<module>\u001b[0;34m\u001b[0m\n\u001b[1;32m      1\u001b[0m \u001b[0;32mfrom\u001b[0m \u001b[0mmy_packages\u001b[0m\u001b[0;34m.\u001b[0m\u001b[0mutils\u001b[0m \u001b[0;32mimport\u001b[0m \u001b[0mHandlePaths\u001b[0m\u001b[0;34m,\u001b[0m \u001b[0mprobes_walk\u001b[0m\u001b[0;34m\u001b[0m\u001b[0;34m\u001b[0m\u001b[0m\n\u001b[1;32m      2\u001b[0m \u001b[0;34m\u001b[0m\u001b[0m\n\u001b[0;32m----> 3\u001b[0;31m \u001b[0mprobe_paths\u001b[0m \u001b[0;34m=\u001b[0m \u001b[0mHandlePaths\u001b[0m\u001b[0;34m(\u001b[0m\u001b[0;34m)\u001b[0m\u001b[0;34m(\u001b[0m\u001b[0mprobes_walk\u001b[0m\u001b[0;34m)\u001b[0m\u001b[0;34m\u001b[0m\u001b[0;34m\u001b[0m\u001b[0m\n\u001b[0m\u001b[1;32m      4\u001b[0m \u001b[0mprint\u001b[0m\u001b[0;34m(\u001b[0m\u001b[0mprobe_paths\u001b[0m\u001b[0;34m)\u001b[0m\u001b[0;34m\u001b[0m\u001b[0;34m\u001b[0m\u001b[0m\n\u001b[1;32m      5\u001b[0m \u001b[0;34m\u001b[0m\u001b[0m\n",
      "\u001b[0;32m/workspace/my_packages/utils.py\u001b[0m in \u001b[0;36m__call__\u001b[0;34m(self, walk)\u001b[0m\n\u001b[1;32m     39\u001b[0m     \u001b[0;32mdef\u001b[0m \u001b[0m__call__\u001b[0m\u001b[0;34m(\u001b[0m\u001b[0mself\u001b[0m\u001b[0;34m,\u001b[0m \u001b[0mwalk\u001b[0m\u001b[0;34m)\u001b[0m\u001b[0;34m:\u001b[0m\u001b[0;34m\u001b[0m\u001b[0;34m\u001b[0m\u001b[0m\n\u001b[1;32m     40\u001b[0m         \u001b[0mself\u001b[0m\u001b[0;34m.\u001b[0m\u001b[0mpaths\u001b[0m \u001b[0;34m=\u001b[0m \u001b[0;34m[\u001b[0m\u001b[0;34m]\u001b[0m\u001b[0;34m\u001b[0m\u001b[0;34m\u001b[0m\u001b[0m\n\u001b[0;32m---> 41\u001b[0;31m         \u001b[0mself\u001b[0m\u001b[0;34m.\u001b[0m\u001b[0mget_paths\u001b[0m\u001b[0;34m(\u001b[0m\u001b[0mwalk\u001b[0m\u001b[0;34m)\u001b[0m\u001b[0;34m\u001b[0m\u001b[0;34m\u001b[0m\u001b[0m\n\u001b[0m\u001b[1;32m     42\u001b[0m         \u001b[0;32mreturn\u001b[0m \u001b[0mself\u001b[0m\u001b[0;34m.\u001b[0m\u001b[0mpaths\u001b[0m\u001b[0;34m\u001b[0m\u001b[0;34m\u001b[0m\u001b[0m\n\u001b[1;32m     43\u001b[0m \u001b[0;34m\u001b[0m\u001b[0m\n",
      "\u001b[0;32m/workspace/my_packages/utils.py\u001b[0m in \u001b[0;36mget_paths\u001b[0;34m(self, walk)\u001b[0m\n\u001b[1;32m     33\u001b[0m             \u001b[0;32mfor\u001b[0m \u001b[0mkey\u001b[0m \u001b[0;32min\u001b[0m \u001b[0mkeys\u001b[0m\u001b[0;34m:\u001b[0m\u001b[0;34m\u001b[0m\u001b[0;34m\u001b[0m\u001b[0m\n\u001b[1;32m     34\u001b[0m                 \u001b[0mnew_path\u001b[0m \u001b[0;34m=\u001b[0m \u001b[0mself\u001b[0m\u001b[0;34m.\u001b[0m\u001b[0mbase_path\u001b[0m\u001b[0;34m+\u001b[0m\u001b[0;34mf\"/{key}\"\u001b[0m\u001b[0;34m\u001b[0m\u001b[0;34m\u001b[0m\u001b[0m\n\u001b[0;32m---> 35\u001b[0;31m                 \u001b[0mself\u001b[0m\u001b[0;34m.\u001b[0m\u001b[0mget_paths\u001b[0m\u001b[0;34m(\u001b[0m\u001b[0mwalk\u001b[0m\u001b[0;34m[\u001b[0m\u001b[0mkey\u001b[0m\u001b[0;34m]\u001b[0m\u001b[0;34m,\u001b[0m \u001b[0mnew_path\u001b[0m\u001b[0;34m)\u001b[0m\u001b[0;34m\u001b[0m\u001b[0;34m\u001b[0m\u001b[0m\n\u001b[0m\u001b[1;32m     36\u001b[0m         \u001b[0;32melse\u001b[0m\u001b[0;34m:\u001b[0m\u001b[0;34m\u001b[0m\u001b[0;34m\u001b[0m\u001b[0m\n\u001b[1;32m     37\u001b[0m             \u001b[0mself\u001b[0m\u001b[0;34m.\u001b[0m\u001b[0mpaths\u001b[0m\u001b[0;34m.\u001b[0m\u001b[0mappend\u001b[0m\u001b[0;34m(\u001b[0m\u001b[0mpath\u001b[0m\u001b[0;34m)\u001b[0m\u001b[0;34m\u001b[0m\u001b[0;34m\u001b[0m\u001b[0m\n",
      "\u001b[0;31mTypeError\u001b[0m: get_paths() takes 2 positional arguments but 3 were given"
     ]
    }
   ],
   "source": [
    "from my_packages.utils import HandlePaths, probes_walk\n",
    "\n",
    "probe_paths = HandlePaths()(probes_walk)\n",
    "print(probe_paths)\n",
    "    "
   ]
  },
  {
   "cell_type": "code",
   "execution_count": 197,
   "id": "9185c7fa",
   "metadata": {},
   "outputs": [],
   "source": [
    "get_coordinates = GetCoordinates(measurement_points=mp)"
   ]
  },
  {
   "cell_type": "code",
   "execution_count": 278,
   "id": "d9ea8ee7",
   "metadata": {},
   "outputs": [
    {
     "name": "stdout",
     "output_type": "stream",
     "text": [
      "library already exists\n",
      "table is  {'/NAS/xfb31/r18': 'xfb31'}\n",
      "path is  /NAS/xfb31/r18\n",
      "table is  {'/NAS/xfb31/r18': 'xfb31'}\n",
      "<HDF5 group \"/xfb31\" (0 members)>\n"
     ]
    }
   ],
   "source": [
    "\n",
    "get_coordinates.save_measurement_points()"
   ]
  },
  {
   "cell_type": "code",
   "execution_count": 204,
   "id": "f1c38785",
   "metadata": {},
   "outputs": [
    {
     "name": "stdout",
     "output_type": "stream",
     "text": [
      "The directory has not yet been explored!\n"
     ]
    }
   ],
   "source": [
    "get_coordinates.get_measurement_points(directory)"
   ]
  },
  {
   "cell_type": "code",
   "execution_count": 195,
   "id": "45607cc8",
   "metadata": {},
   "outputs": [
    {
     "name": "stdout",
     "output_type": "stream",
     "text": [
      "<KeysViewHDF5 []>\n"
     ]
    }
   ],
   "source": [
    "with h5py.File(\"measurements.h5\", \"r\") as f:\n",
    "    print(f.keys())\n",
    "\n",
    "# with h5py.File(\"measurements.h5\", \"r\") as f:\n",
    "#     print(f.keys())\n",
    "#     print(f[\"test_group1\"])\n",
    "\n"
   ]
  },
  {
   "cell_type": "markdown",
   "id": "a33cccdc",
   "metadata": {},
   "source": [
    "## Base Class for some functionalities"
   ]
  },
  {
   "cell_type": "code",
   "execution_count": 248,
   "id": "a32fc6fc",
   "metadata": {},
   "outputs": [
    {
     "data": {
      "text/plain": [
       "{'/NAS/xfb31/r18': array([[190000.,  72500.],\n",
       "        [162000.,  84500.],\n",
       "        [ 92000.,  70500.],\n",
       "        ...,\n",
       "        [112000.,  70500.],\n",
       "        [198000.,  48500.],\n",
       "        [156000.,  22500.]])}"
      ]
     },
     "execution_count": 248,
     "metadata": {},
     "output_type": "execute_result"
    }
   ],
   "source": [
    "mp"
   ]
  },
  {
   "cell_type": "code",
   "execution_count": 201,
   "id": "10ef419f",
   "metadata": {},
   "outputs": [
    {
     "data": {
      "text/plain": [
       "['xfb31.h5', 'measurements.h5']"
      ]
     },
     "execution_count": 201,
     "metadata": {},
     "output_type": "execute_result"
    }
   ],
   "source": [
    "hf = Hdf5Lib()\n",
    "hf.available_libs"
   ]
  },
  {
   "cell_type": "markdown",
   "id": "0841801e",
   "metadata": {},
   "source": [
    "## Create a generator with the saved data"
   ]
  },
  {
   "cell_type": "code",
   "execution_count": 5,
   "id": "e70a12a8",
   "metadata": {},
   "outputs": [],
   "source": [
    "## load data\n",
    "\n",
    "with open(\"point_coordinates\", \"rb\") as handle:\n",
    "    coordinates = pickle.load(handle)\n",
    "\n",
    "    \n",
    "batch_gen = s.Batch_Generator(coordinates)"
   ]
  },
  {
   "cell_type": "code",
   "execution_count": 14,
   "id": "31cea7dd",
   "metadata": {},
   "outputs": [
    {
     "data": {
      "text/plain": [
       "['x106000.00y24500.000.csv',\n",
       " 'x106000.00y24500.001.csv',\n",
       " 'x106000.00y24500.002.csv',\n",
       " 'x106000.00y24500.003.csv',\n",
       " 'x106000.00y24500.004.csv',\n",
       " 'x106000.00y24500.005.csv',\n",
       " 'x106000.00y24500.006.csv',\n",
       " 'x106000.00y24500.007.csv',\n",
       " 'x106000.00y24500.008.csv',\n",
       " 'x106000.00y24500.009.csv',\n",
       " 'x106000.00y24500.0010.csv',\n",
       " 'x106000.00y24500.0011.csv',\n",
       " 'x106000.00y24500.0012.csv',\n",
       " 'x106000.00y24500.0013.csv',\n",
       " 'x106000.00y24500.0014.csv',\n",
       " 'x106000.00y24500.0015.csv',\n",
       " 'x106000.00y24500.0016.csv',\n",
       " 'x106000.00y24500.0017.csv',\n",
       " 'x106000.00y24500.0018.csv',\n",
       " 'x106000.00y24500.0019.csv',\n",
       " 'x106000.00y24500.0020.csv',\n",
       " 'x106000.00y24500.0021.csv',\n",
       " 'x106000.00y24500.0022.csv',\n",
       " 'x106000.00y24500.0023.csv',\n",
       " 'x106000.00y24500.0024.csv',\n",
       " 'x106000.00y24500.0025.csv',\n",
       " 'x106000.00y24500.0026.csv',\n",
       " 'x106000.00y24500.0027.csv',\n",
       " 'x106000.00y24500.0028.csv',\n",
       " 'x106000.00y24500.0029.csv',\n",
       " 'x106000.00y24500.0030.csv',\n",
       " 'x106000.00y24500.0031.csv',\n",
       " 'x106000.00y24500.0032.csv',\n",
       " 'x106000.00y24500.0033.csv',\n",
       " 'x106000.00y24500.0034.csv',\n",
       " 'x106000.00y24500.0035.csv',\n",
       " 'x106000.00y24500.0036.csv',\n",
       " 'x106000.00y24500.0037.csv',\n",
       " 'x106000.00y24500.0038.csv',\n",
       " 'x106000.00y24500.0039.csv',\n",
       " 'x106000.00y24500.0040.csv',\n",
       " 'x106000.00y24500.0041.csv',\n",
       " 'x106000.00y24500.0042.csv',\n",
       " 'x106000.00y24500.0043.csv',\n",
       " 'x106000.00y24500.0044.csv',\n",
       " 'x106000.00y24500.0045.csv',\n",
       " 'x106000.00y24500.0046.csv',\n",
       " 'x106000.00y24500.0047.csv',\n",
       " 'x106000.00y24500.0048.csv',\n",
       " 'x106000.00y24500.0049.csv']"
      ]
     },
     "execution_count": 14,
     "metadata": {},
     "output_type": "execute_result"
    }
   ],
   "source": [
    "next(batch_gen)"
   ]
  },
  {
   "cell_type": "code",
   "execution_count": null,
   "id": "e19743e4",
   "metadata": {},
   "outputs": [],
   "source": []
  },
  {
   "cell_type": "code",
   "execution_count": null,
   "id": "b989daaf",
   "metadata": {},
   "outputs": [],
   "source": []
  }
 ],
 "metadata": {
  "kernelspec": {
   "display_name": "Python 3 (ipykernel)",
   "language": "python",
   "name": "python3"
  }
 },
 "nbformat": 4,
 "nbformat_minor": 5
}
